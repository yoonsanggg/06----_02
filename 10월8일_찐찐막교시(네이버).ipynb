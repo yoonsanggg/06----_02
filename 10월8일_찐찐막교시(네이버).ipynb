{
 "cells": [
  {
   "cell_type": "code",
   "execution_count": 3,
   "metadata": {},
   "outputs": [],
   "source": [
    "import time\n",
    "from selenium import webdriver\n",
    "from selenium.webdriver.chrome.options import Options\n",
    "from selenium.webdriver.chrome.service import Service\n",
    "from webdriver_manager.chrome import ChromeDriverManager\n",
    "from selenium.webdriver.common.keys import Keys\n",
    "from selenium.webdriver.common.by import By\n",
    "from bs4 import BeautifulSoup as bs\n",
    "import pandas as pd\n",
    "# from tqdm import tqdm\n",
    "import urllib.request\n",
    "import requests\n",
    "import os\n",
    "\n",
    "options=Options()\n",
    "options.add_experimental_option('detach',True) #화면이 꺼지지 않고 유지\n",
    "options.add_argument('--start-maximized') # 화면을 최대화\n",
    "service=Service(ChromeDriverManager().install()) #크롬드라이버 자동 설치\n",
    "\n",
    "driver=webdriver.Chrome(service=service, options=options)\n",
    "\n",
    "serach='나인원'\n",
    "url=f'https://search.naver.com/search.naver?ssc=tab.image.all&where=image&sm=tab_jum&query={serach}'\n",
    "\n",
    "driver.get(url)\n",
    "time.sleep(2)\n",
    "\n",
    "#3 수직 아래로 7번 이동\n",
    "for i in range(7):\n",
    "    driver.execute_script(\"window.scrollTo(0,document.body.scrollHeight);\")\n",
    "    time.sleep(1)\n",
    "#4 이미지 태그 가져오기\n",
    "img_elems = driver.find_elements(By.CLASS_NAME,'_fe_image_tab_content_thumbnail_image')\n",
    "#5. 이미지 태그에서 src 속성 가져오기\n",
    "img_srcs=[i.get_attribute('src') for i in img_elems]\n",
    "\n",
    "# 폴더 만들기\n",
    "path = f'./{serach}'\n",
    "os.makedirs(path,exist_ok=True)\n",
    "\n",
    "# img_srcs에 들어있는 이미지 다운로드\n",
    "for idx,i in enumerate(img_srcs):\n",
    "    file_name = f'{path}/{serach}{idx:03d}.jpg' #'./search/search001.jpg'\n",
    "    urllib.request.urlretrieve(i,file_name) #저장할 파일, 저장이름\n"
   ]
  },
  {
   "cell_type": "code",
   "execution_count": null,
   "metadata": {},
   "outputs": [],
   "source": []
  },
  {
   "cell_type": "code",
   "execution_count": null,
   "metadata": {},
   "outputs": [],
   "source": []
  }
 ],
 "metadata": {
  "kernelspec": {
   "display_name": "Python (edu)",
   "language": "python",
   "name": "edu"
  },
  "language_info": {
   "codemirror_mode": {
    "name": "ipython",
    "version": 3
   },
   "file_extension": ".py",
   "mimetype": "text/x-python",
   "name": "python",
   "nbconvert_exporter": "python",
   "pygments_lexer": "ipython3",
   "version": "3.12.5"
  }
 },
 "nbformat": 4,
 "nbformat_minor": 2
}
