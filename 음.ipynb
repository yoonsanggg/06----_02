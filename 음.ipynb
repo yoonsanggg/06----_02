{
 "cells": [
  {
   "cell_type": "code",
   "execution_count": 1,
   "metadata": {},
   "outputs": [],
   "source": [
    "import requests\n",
    "import pandas as pd\n",
    "from bs4 import BeautifulSoup as bs"
   ]
  },
  {
   "cell_type": "code",
   "execution_count": 4,
   "metadata": {},
   "outputs": [
    {
     "data": {
      "text/plain": [
       "<Response [200]>"
      ]
     },
     "execution_count": 4,
     "metadata": {},
     "output_type": "execute_result"
    }
   ],
   "source": [
    "url='https://www.melon.com/chart/day/index.htm'\n",
    "uesr_agent='Mozilla/5.0 (Windows NT 10.0; Win64; x64) AppleWebKit/537.36 (KHTML, like Gecko) Chrome/129.0.0.0 Safari/537.36'\n",
    "hdr = {'User-Agent': uesr_agent}\n",
    "html=requests.get(url,headers=hdr)\n",
    "html"
   ]
  },
  {
   "cell_type": "code",
   "execution_count": 5,
   "metadata": {},
   "outputs": [
    {
     "name": "stderr",
     "output_type": "stream",
     "text": [
      "C:\\Users\\human\\AppData\\Local\\Temp\\ipykernel_42116\\4272687825.py:1: FutureWarning: Passing literal html to 'read_html' is deprecated and will be removed in a future version. To read from a literal string, wrap it in a 'StringIO' object.\n",
      "  pd.read_html(html.text)\n"
     ]
    },
    {
     "data": {
      "text/plain": [
       "[    Unnamed: 0    순위      순위등락  앨범이미지 곡 상세가기  \\\n",
       " 0          NaN    1위  순위 동일  0    NaN    곡정보   \n",
       " 1          NaN    2위  순위 동일  0    NaN    곡정보   \n",
       " 2          NaN    3위  순위 동일  0    NaN    곡정보   \n",
       " 3          NaN    4위  순위 동일  0    NaN    곡정보   \n",
       " 4          NaN    5위  순위 동일  0    NaN    곡정보   \n",
       " ..         ...   ...       ...    ...    ...   \n",
       " 95         NaN   96위  단계 하락  4    NaN    곡정보   \n",
       " 96         NaN   97위  단계 상승  1    NaN    곡정보   \n",
       " 97         NaN   98위     순위 진입    NaN    곡정보   \n",
       " 98         NaN   99위     순위 진입    NaN    곡정보   \n",
       " 99         NaN  100위  단계 하락  6    NaN    곡정보   \n",
       " \n",
       "                                  곡정보                                    앨범  \\\n",
       " 0                 HAPPY  DAY6 (데이식스)                              Fourever   \n",
       " 1                      내 이름 맑음  QWER  2nd Mini Album 'Algorithm's Blossom'   \n",
       " 2   Welcome to the Show  DAY6 (데이식스)                              Fourever   \n",
       " 3                   Supernova  aespa            Armageddon - The 1st Album   \n",
       " 4         한 페이지가 될 수 있게  DAY6 (데이식스)              The Book of Us : Gravity   \n",
       " ..                               ...                                   ...   \n",
       " 95                           면도  조장혁                                    면도   \n",
       " 96                     Polaroid  임영웅                              Polaroid   \n",
       " 97               MANIAC  VIVIZ (비비지)           The 4th Mini Album 'VERSUS'   \n",
       " 98                    버추얼 아이돌  PLAVE                       ASTERUM : 134-1   \n",
       " 99                            숲  최유리                                    유영   \n",
       " \n",
       "             좋아요  듣기  담기    다운     뮤비  \n",
       " 0   좋아요  총건수  0  듣기  담기  다운로드  뮤직비디오  \n",
       " 1   좋아요  총건수  0  듣기  담기  다운로드  뮤직비디오  \n",
       " 2   좋아요  총건수  0  듣기  담기  다운로드  뮤직비디오  \n",
       " 3   좋아요  총건수  0  듣기  담기  다운로드  뮤직비디오  \n",
       " 4   좋아요  총건수  0  듣기  담기  다운로드  뮤직비디오  \n",
       " ..          ...  ..  ..   ...    ...  \n",
       " 95  좋아요  총건수  0  듣기  담기  다운로드  뮤직비디오  \n",
       " 96  좋아요  총건수  0  듣기  담기  다운로드  뮤직비디오  \n",
       " 97  좋아요  총건수  0  듣기  담기  다운로드  뮤직비디오  \n",
       " 98  좋아요  총건수  0  듣기  담기  다운로드  뮤직비디오  \n",
       " 99  좋아요  총건수  0  듣기  담기  다운로드  뮤직비디오  \n",
       " \n",
       " [100 rows x 12 columns]]"
      ]
     },
     "execution_count": 5,
     "metadata": {},
     "output_type": "execute_result"
    }
   ],
   "source": [
    "pd.read_html(html.text)"
   ]
  },
  {
   "cell_type": "code",
   "execution_count": 21,
   "metadata": {},
   "outputs": [
    {
     "name": "stdout",
     "output_type": "stream",
     "text": [
      "Requirement already satisfied: lxml in c:\\users\\human\\.conda\\envs\\edu\\lib\\site-packages (5.3.0)\n"
     ]
    }
   ],
   "source": []
  },
  {
   "cell_type": "code",
   "execution_count": null,
   "metadata": {},
   "outputs": [],
   "source": []
  }
 ],
 "metadata": {
  "kernelspec": {
   "display_name": "Python (edu)",
   "language": "python",
   "name": "edu"
  },
  "language_info": {
   "codemirror_mode": {
    "name": "ipython",
    "version": 3
   },
   "file_extension": ".py",
   "mimetype": "text/x-python",
   "name": "python",
   "nbconvert_exporter": "python",
   "pygments_lexer": "ipython3",
   "version": "3.12.5"
  }
 },
 "nbformat": 4,
 "nbformat_minor": 2
}
