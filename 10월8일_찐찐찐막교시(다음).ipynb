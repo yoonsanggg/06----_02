{
 "cells": [
  {
   "cell_type": "code",
   "execution_count": 3,
   "metadata": {},
   "outputs": [],
   "source": [
    "import time\n",
    "from selenium import webdriver\n",
    "from selenium.webdriver.chrome.options import Options\n",
    "from selenium.webdriver.chrome.service import Service\n",
    "from webdriver_manager.chrome import ChromeDriverManager\n",
    "from selenium.webdriver.common.keys import Keys\n",
    "from selenium.webdriver.common.by import By\n",
    "from bs4 import BeautifulSoup as bs\n",
    "import pandas as pd\n",
    "# from tqdm import tqdm\n",
    "import urllib.request\n",
    "import requests\n",
    "import os\n",
    "\n",
    "options=Options()\n",
    "options.add_experimental_option('detach',True) #화면이 꺼지지 않고 유지\n",
    "options.add_argument('--start-maximized') # 화면을 최대화\n",
    "service=Service(ChromeDriverManager().install()) #크롬드라이버 자동 설치\n",
    "\n",
    "driver=webdriver.Chrome(service=service, options=options)\n",
    "\n",
    "search='동물원'\n",
    "url=f'https://search.daum.net/search?nil_suggest=btn&w=img&DA=SBC&q={search}'\n",
    "\n",
    "driver.get(url)\n",
    "time.sleep(2)\n",
    "\n",
    "#스크롤 내림\n",
    "before_locaion = driver.execute_script(\"return document.body.scrollHeight\") #현재 창 높이\n",
    "while True:\n",
    "    driver.execute_script(\"window.scrollTo(0,document.body.scrollHeight)\")\n",
    "    time.sleep(1)\n",
    "    after_location = driver.execute_script(\"return document.body.scrollHeight\") #늘어난 창 높이\n",
    "    if before_locaion == after_location:\n",
    "        break\n",
    "    before_locaion=after_location\n",
    "\n",
    "img_elems=driver.find_elements(By.CSS_SELECTOR,'a.thumb_bf>img')\n",
    "img_srcs =[i.get_attribute('src') for i in img_elems]\n",
    "\n",
    "path = f'./{search}'\n",
    "os.makedirs(path,exist_ok=True)\n",
    "\n",
    "# img_srcs에 들어있는 이미지 다운로드\n",
    "for idx,i in enumerate(img_srcs):\n",
    "    file_name = f'{path}/{search}{idx:03d}.jpg' #'./search/search001.jpg'\n",
    "    urllib.request.urlretrieve(i,file_name) #저장할 파일, 저장이름\n"
   ]
  },
  {
   "cell_type": "code",
   "execution_count": null,
   "metadata": {},
   "outputs": [],
   "source": []
  }
 ],
 "metadata": {
  "kernelspec": {
   "display_name": "Python (edu)",
   "language": "python",
   "name": "edu"
  },
  "language_info": {
   "codemirror_mode": {
    "name": "ipython",
    "version": 3
   },
   "file_extension": ".py",
   "mimetype": "text/x-python",
   "name": "python",
   "nbconvert_exporter": "python",
   "pygments_lexer": "ipython3",
   "version": "3.12.5"
  }
 },
 "nbformat": 4,
 "nbformat_minor": 2
}
