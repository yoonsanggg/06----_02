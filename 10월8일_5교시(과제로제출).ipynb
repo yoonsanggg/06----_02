{
 "cells": [
  {
   "cell_type": "code",
   "execution_count": 31,
   "id": "3879f61d-e03b-4cd4-acbe-36cd7ade9480",
   "metadata": {},
   "outputs": [],
   "source": [
    "import time\n",
    "from selenium import webdriver\n",
    "from selenium.webdriver.chrome.options import Options\n",
    "from selenium.webdriver.chrome.service import Service\n",
    "from webdriver_manager.chrome import ChromeDriverManager\n",
    "from selenium.webdriver.common.keys import Keys\n",
    "from selenium.webdriver.common.by import By\n",
    "import requests\n",
    "from bs4 import BeautifulSoup as bs\n",
    "import pandas as pd\n",
    "\n",
    "options=Options()\n",
    "options.add_experimental_option('detach',True) #화면이 꺼지지 않고 유지\n",
    "options.add_argument('--start-maximized') # 화면을 최대화\n",
    "service=Service(ChromeDriverManager().install()) #크롬드라이버 자동 설치\n",
    "\n",
    "driver=webdriver.Chrome(service=service, options=options)\n",
    "\n",
    "\n",
    "def korea(search,pages=1):\n",
    "    '''\n",
    "    마지막 자료까지 다 가져오려면 -> pages = 0\n",
    "    '''\n",
    "    url='https://www.korea.kr/totalSearch.do?srchFlag=N&keyword=%EB%B6%80%EB%8F%99%EC%82%B0&oldKeyword=%EB%B6%80%EB%8F%99%EC%82%B0&resultKeyword=%EB%B6%80%EB%8F%99%EC%82%B0&sort=date&scnt=5&punit=10&where=news_korea_2023&dateRange=all&range=ALL&op=and&multiFlag=Y&news_type=pol'\n",
    "    driver.get(url)\n",
    "    time.sleep(1)\n",
    "    elem = driver.find_element(By.XPATH,'//*[@id=\"topSearchKeywordSr\"]')\n",
    "    elem.clear()\n",
    "    elem.send_keys(search)#'\\n') 이걸로 해도 됨 이거 엔터잖슴\n",
    "    elem.send_keys(Keys.ENTER)\n",
    "    time.sleep(2)\n",
    "    #많은것중에 특정 하나만 찾으려면 무조건 Xpath //*[@id=\"topSearchKeywordSr\"] 현재 창에서 페이지 경로\n",
    "    driver.find_element(By.XPATH,'//*[@id=\"news_korea_2023\"]/div[1]/div/ul/li[2]/a').click()\n",
    "    time.sleep(1)\n",
    "    #마지막 페이지 확인\n",
    "    tmp = driver.find_element(By.XPATH,'//*[@id=\"paging\"]/div/a[4]').get_attribute('onclick')\n",
    "    end_page_int = int(tmp.strip('pageLink(); return false;'))\n",
    "    # html=driver.page_source\n",
    "    # res=[html]\n",
    "    # if pages>1:\n",
    "    #     for i in range(2,pages+1):\n",
    "    #         driver.find_element(By.LINK_TEXT,str(i)).click()\n",
    "    #         time.sleep(1)\n",
    "    #         res.append(driver.page_source)\n",
    "     \n",
    "    \n",
    "    # return res\n",
    "\n",
    "\n",
    "\n",
    "\n"
   ]
  },
  {
   "cell_type": "code",
   "execution_count": 32,
   "id": "e1089a25",
   "metadata": {},
   "outputs": [],
   "source": [
    "korea('전세사기',3)"
   ]
  },
  {
   "cell_type": "code",
   "execution_count": null,
   "id": "7b4a0d2c",
   "metadata": {},
   "outputs": [],
   "source": [
    "# korea('전세사기',pages=12) 12 페이지까지\n",
    "# korea('전세사기',pages=0) 마지막 페이지 까지"
   ]
  },
  {
   "cell_type": "code",
   "execution_count": null,
   "id": "db8dbd4f",
   "metadata": {},
   "outputs": [],
   "source": []
  }
 ],
 "metadata": {
  "kernelspec": {
   "display_name": "Python (edu)",
   "language": "python",
   "name": "edu"
  },
  "language_info": {
   "codemirror_mode": {
    "name": "ipython",
    "version": 3
   },
   "file_extension": ".py",
   "mimetype": "text/x-python",
   "name": "python",
   "nbconvert_exporter": "python",
   "pygments_lexer": "ipython3",
   "version": "3.12.5"
  }
 },
 "nbformat": 4,
 "nbformat_minor": 5
}
