{
 "cells": [
  {
   "cell_type": "code",
   "execution_count": 2,
   "metadata": {},
   "outputs": [],
   "source": [
    "import time\n",
    "from selenium import webdriver\n",
    "from selenium.webdriver.chrome.options import Options\n",
    "from selenium.webdriver.chrome.service import Service\n",
    "from webdriver_manager.chrome import ChromeDriverManager\n",
    "from selenium.webdriver.common.keys import Keys\n",
    "from selenium.webdriver.common.by import By\n",
    "from bs4 import BeautifulSoup as bs\n",
    "import pandas as pd\n",
    "# from tqdm import tqdm\n",
    "import urllib.request\n",
    "import requests\n",
    "import os\n"
   ]
  },
  {
   "cell_type": "code",
   "execution_count": 57,
   "metadata": {},
   "outputs": [
    {
     "name": "stdout",
     "output_type": "stream",
     "text": [
      "실행 끝\n"
     ]
    }
   ],
   "source": [
    "options = Options()\n",
    "options.add_experimental_option('detach', True)\n",
    "options.add_argument('--start-maximized')\n",
    "service = Service(ChromeDriverManager().install())\n",
    "\n",
    "driver = webdriver.Chrome(service=service, options=options)\n",
    "\n",
    "search = '피카츄'\n",
    "pageNo = 1\n",
    "url = f'https://pixabay.com/ko/images/search/{search}/?pagi={pageNo}'\n",
    "driver.get(url)\n",
    "time.sleep(1)\n",
    "path = f'./{search}'\n",
    "os.makedirs(path, exist_ok=True)\n",
    "\n",
    "\n",
    "end_page_XPATH=driver.find_element(By.XPATH,\"//div[contains(@class, 'pages')]\")\n",
    "end_Page_text=end_page_XPATH.text\n",
    "end_PageNo=int(end_Page_text.split('/')[-1].strip())\n",
    "while True:\n",
    "\n",
    "    img_path = driver.find_elements(By.CSS_SELECTOR, 'div.container--MwyXl img')\n",
    "    img_src = [i.get_attribute('src') for i in img_path]\n",
    "\n",
    "\n",
    "    for idx, i in enumerate(img_src):\n",
    "        item_name = f'{path}/{pageNo:02d}_{idx:03d}.jpg'\n",
    "        user_agent='Mozilla/5.0 (Windows NT 10.0; Win64; x64) AppleWebKit/537.36 (KHTML, like Gecko) Chrome/129.0.0.0 Safari/537.36'\n",
    "        hdr={'User-Agent':user_agent}\n",
    "        get = requests.get(i,headers=hdr)\n",
    "        with open(item_name,'wb') as file_name:\n",
    "            file_name.write(get.content)\n",
    "    time.sleep(3)\n",
    "\n",
    "    pageNo += 1\n",
    "    if end_PageNo < pageNo:\n",
    "        print('실행 끝')\n",
    "        break"
   ]
  },
  {
   "cell_type": "code",
   "execution_count": null,
   "metadata": {},
   "outputs": [],
   "source": []
  }
 ],
 "metadata": {
  "kernelspec": {
   "display_name": "edu",
   "language": "python",
   "name": "python3"
  },
  "language_info": {
   "codemirror_mode": {
    "name": "ipython",
    "version": 3
   },
   "file_extension": ".py",
   "mimetype": "text/x-python",
   "name": "python",
   "nbconvert_exporter": "python",
   "pygments_lexer": "ipython3",
   "version": "3.12.5"
  }
 },
 "nbformat": 4,
 "nbformat_minor": 2
}
