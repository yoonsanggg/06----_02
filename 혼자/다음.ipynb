{
 "cells": [
  {
   "cell_type": "code",
   "execution_count": 5,
   "metadata": {},
   "outputs": [],
   "source": [
    "import time\n",
    "from selenium import webdriver\n",
    "from selenium.webdriver.chrome.options import Options\n",
    "from selenium.webdriver.chrome.service import Service\n",
    "from webdriver_manager.chrome import ChromeDriverManager\n",
    "from selenium.webdriver.common.keys import Keys\n",
    "from selenium.webdriver.common.by import By\n",
    "from bs4 import BeautifulSoup as bs\n",
    "import pandas as pd\n",
    "# from tqdm import tqdm\n",
    "import urllib.request\n",
    "import requests\n",
    "import os\n"
   ]
  },
  {
   "cell_type": "code",
   "execution_count": 7,
   "metadata": {},
   "outputs": [],
   "source": [
    "options=Options()\n",
    "options.add_experimental_option('detach',True)\n",
    "options.add_argument('--start-maximized')\n",
    "service=Service(ChromeDriverManager().install())\n",
    "\n",
    "driver = webdriver.Chrome(service=service,options=options)\n",
    "search='검색어'\n",
    "url=f'https://search.daum.net/search?w=img&nil_search=btn&DA=NTB&enc=utf8&q={search}'\n",
    "driver.get(url)\n",
    "time.sleep(3)\n",
    "\n",
    "page_before = driver.execute_script(\"return document.body.scrollHeight\")\n",
    "while True:\n",
    "    driver.execute_script(\"window.scrollTo(0,document.body.scrollHeight)\")\n",
    "    time.sleep(1)\n",
    "    page_now = driver.execute_script(\"return document.body.scrollHeight\")\n",
    "    if page_now == page_before:\n",
    "        break\n",
    "    page_before = page_now\n",
    "\n",
    "css_img_path =driver.find_elements(By.CSS_SELECTOR,'a.thumb_bf img')\n",
    "img_srcs = [i.get_attribute('src') for i in css_img_path]\n",
    "\n",
    "path = f'./{search}'\n",
    "os.makedirs(path,exist_ok=True)\n",
    "for idx,i in enumerate(img_srcs):\n",
    "    item_name = f'{path}/{idx:03d}.jpg'\n",
    "    urllib.request.urlretrieve(i,item_name)\n",
    "    \n"
   ]
  },
  {
   "cell_type": "code",
   "execution_count": null,
   "metadata": {},
   "outputs": [],
   "source": []
  }
 ],
 "metadata": {
  "kernelspec": {
   "display_name": "edu",
   "language": "python",
   "name": "python3"
  },
  "language_info": {
   "codemirror_mode": {
    "name": "ipython",
    "version": 3
   },
   "file_extension": ".py",
   "mimetype": "text/x-python",
   "name": "python",
   "nbconvert_exporter": "python",
   "pygments_lexer": "ipython3",
   "version": "3.12.5"
  }
 },
 "nbformat": 4,
 "nbformat_minor": 2
}
